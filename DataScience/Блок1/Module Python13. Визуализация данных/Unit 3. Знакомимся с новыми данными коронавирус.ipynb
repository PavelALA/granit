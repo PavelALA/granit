{
 "cells": [
  {
   "cell_type": "code",
   "execution_count": null,
   "metadata": {},
   "outputs": [],
   "source": [
    "import pandas as pd\n",
    "covid_data = pd.read_csv('data/covid_data.csv')\n",
    "display(covid_data)\n",
    "vaccinations_data = pd.read_csv('data/country_vaccinations.csv')\n",
    "vaccinations_data = vaccinations_data[\n",
    "    ['country', 'date', 'total_vaccinations', \n",
    "     'people_vaccinated', 'people_vaccinated_per_hundred',\n",
    "     'people_fully_vaccinated', 'people_fully_vaccinated_per_hundred',\n",
    "     'daily_vaccinations', 'vaccines']\n",
    "]\n",
    "vaccinations_data\n",
    "covid_data = covid_data.groupby(\n",
    "    ['date', 'country'], \n",
    "    as_index=False\n",
    ")[['confirmed', 'deaths', 'recovered']].sum()\n",
    "covid_data['date'] = pd.to_datetime(covid_data['date'])\n",
    "\n",
    "covid_data['active'] = covid_data['confirmed'] - covid_data['deaths'] - covid_data['recovered']\n",
    "\n",
    "covid_data = covid_data.sort_values(by=['country', 'date'])\n",
    "covid_data['daily_confirmed'] = covid_data.groupby('country')['confirmed'].diff()\n",
    "covid_data['daily_deaths'] = covid_data.groupby('country')['deaths'].diff()\n",
    "covid_data['daily_recovered'] = covid_data.groupby('country')['recovered'].diff()\n",
    "covid_data \n",
    "vaccinations_data['date'] = pd.to_datetime(vaccinations_data['date'])\n",
    "covid_data.sort_values(by='date')\n",
    "vaccinations_data.sort_values(by='date')\n",
    "covid_df = covid_data.merge(\n",
    "    right=vaccinations_data,\n",
    "    how='left',\n",
    "    on = ['date','country']\n",
    "    \n",
    ")\n",
    "display(covid_df)\n",
    "covid_df['death_rate'] = (covid_df['deaths']/covid_df['confirmed'])*100\n",
    "covid_df['recover_rate'] = (covid_df['recovered']/covid_df['confirmed'])*100\n",
    "covid_df\n",
    "covid_df[covid_df['country']=='United States'].sort_values(by='death_rate')\n",
    "covid_df[covid_df['country']=='Russia']['recover_rate'].max()"
   ]
  }
 ],
 "metadata": {
  "kernelspec": {
   "display_name": "Python 3.9.10 64-bit",
   "language": "python",
   "name": "python3"
  },
  "language_info": {
   "codemirror_mode": {
    "name": "ipython",
    "version": 3
   },
   "file_extension": ".py",
   "mimetype": "text/x-python",
   "name": "python",
   "nbconvert_exporter": "python",
   "pygments_lexer": "ipython3",
   "version": "3.9.10"
  },
  "orig_nbformat": 4,
  "vscode": {
   "interpreter": {
    "hash": "c25269a4018224bb4e3cb6b79397037e31419b0dedc1b97e47175df2e08dbf7b"
   }
  }
 },
 "nbformat": 4,
 "nbformat_minor": 2
}
