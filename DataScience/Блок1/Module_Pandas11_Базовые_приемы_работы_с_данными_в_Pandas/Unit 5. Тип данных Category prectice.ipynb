{
 "cells": [
  {
   "cell_type": "code",
   "execution_count": null,
   "metadata": {},
   "outputs": [],
   "source": []
  }
 ],
 "metadata": {
  "kernelspec": {
   "display_name": "Python 3.9.10 64-bit",
   "language": "python",
   "name": "python3"
  },
  "language_info": {
   "name": "python",
   "version": "3.9.10"
  },
  "orig_nbformat": 4,
  "vscode": {
   "interpreter": {
    "hash": "9cf7e8cce2c82f0f2a681b3946078adcacb4bc27766555d6c4ac063d03ce29bc"
   }
  }
 },
 "nbformat": 4,
 "nbformat_minor": 2
}
